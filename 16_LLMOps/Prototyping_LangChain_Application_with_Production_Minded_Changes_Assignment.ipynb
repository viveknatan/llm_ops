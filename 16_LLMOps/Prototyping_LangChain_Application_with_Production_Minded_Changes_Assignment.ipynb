{
  "cells": [
    {
      "cell_type": "markdown",
      "metadata": {
        "id": "8ZsP-j7w3zcL"
      },
      "source": [
        "# Prototyping LangChain Application with Production Minded Changes\n",
        "\n",
        "For our first breakout room we'll be exploring how to set-up a LangChain LCEL chain in a way that takes advantage of all of the amazing out of the box production ready features it offers.\n",
        "\n",
        "We'll also explore `Caching` and what makes it an invaluable tool when transitioning to production environments.\n"
      ]
    },
    {
      "cell_type": "markdown",
      "metadata": {
        "id": "PpeN9ND0HKa0"
      },
      "source": [
        "## Task 1: Dependencies and Set-Up\n",
        "\n",
        "Let's get everything we need - we're going to use very specific versioning today to try to mitigate potential env. issues!\n",
        "\n",
        "> NOTE: If you're using this notebook locally - you do not need to install separate dependencies"
      ]
    },
    {
      "cell_type": "code",
      "execution_count": 1,
      "metadata": {
        "id": "0P4IJUQF27jW"
      },
      "outputs": [],
      "source": [
        "#!pip install -qU langchain_openai==0.2.0 langchain_community==0.3.0 langchain==0.3.0 pymupdf==1.24.10 qdrant-client==1.11.2 langchain_qdrant==0.1.4 langsmith==0.1.121 langchain_huggingface==0.2.0"
      ]
    },
    {
      "cell_type": "markdown",
      "metadata": {
        "id": "qYcWLzrmHgDb"
      },
      "source": [
        "We'll need an HF Token:"
      ]
    },
    {
      "cell_type": "code",
      "execution_count": 2,
      "metadata": {
        "colab": {
          "base_uri": "https://localhost:8080/"
        },
        "id": "GZ8qfrFh_6ed",
        "outputId": "4fb1a16f-1f71-4d0a-aad4-dd0d0917abc5"
      },
      "outputs": [],
      "source": [
        "import os\n",
        "import getpass\n",
        "\n",
        "os.environ[\"HF_TOKEN\"] = getpass.getpass(\"HF Token Key:\")"
      ]
    },
    {
      "cell_type": "markdown",
      "metadata": {
        "id": "piz2DUDuHiSO"
      },
      "source": [
        "And the LangSmith set-up:"
      ]
    },
    {
      "cell_type": "code",
      "execution_count": 3,
      "metadata": {
        "colab": {
          "base_uri": "https://localhost:8080/"
        },
        "id": "wLZX5zowCh-q",
        "outputId": "565c588a-a865-4b86-d5ca-986f35153000"
      },
      "outputs": [],
      "source": [
        "import uuid\n",
        "\n",
        "os.environ[\"LANGCHAIN_PROJECT\"] = f\"AIM Session 16 - {uuid.uuid4().hex[0:8]}\"\n",
        "os.environ[\"LANGCHAIN_TRACING_V2\"] = \"true\"\n",
        "os.environ[\"LANGCHAIN_API_KEY\"] = getpass.getpass(\"LangChain API Key:\")"
      ]
    },
    {
      "cell_type": "markdown",
      "metadata": {
        "id": "WmwNTziKHrQm"
      },
      "source": [
        "Let's verify our project so we can leverage it in LangSmith later."
      ]
    },
    {
      "cell_type": "code",
      "execution_count": 4,
      "metadata": {
        "colab": {
          "base_uri": "https://localhost:8080/"
        },
        "id": "T6GZmkVkFcHq",
        "outputId": "f4c0fdb3-24ea-429a-fa8c-23556cb7c3ed"
      },
      "outputs": [
        {
          "name": "stdout",
          "output_type": "stream",
          "text": [
            "AIM Session 16 - 729c4096\n"
          ]
        }
      ],
      "source": [
        "print(os.environ[\"LANGCHAIN_PROJECT\"])"
      ]
    },
    {
      "cell_type": "markdown",
      "metadata": {
        "id": "un_ppfaAHv1J"
      },
      "source": [
        "## Task 2: Setting up RAG With Production in Mind\n",
        "\n",
        "This is the most crucial step in the process - in order to take advantage of:\n",
        "\n",
        "- Asyncronous requests\n",
        "- Parallel Execution in Chains\n",
        "- And more...\n",
        "\n",
        "You must...use LCEL. These benefits are provided out of the box and largely optimized behind the scenes."
      ]
    },
    {
      "cell_type": "markdown",
      "metadata": {
        "id": "vGi-db23JMAL"
      },
      "source": [
        "### Building our RAG Components: Retriever\n",
        "\n",
        "We'll start by building some familiar components - and showcase how they automatically scale to production features."
      ]
    },
    {
      "cell_type": "markdown",
      "metadata": {
        "id": "zvbT3HSDJemE"
      },
      "source": [
        "Please upload a PDF file to use in this example!\n",
        "\n",
        "> NOTE: If you're running this locally - you do not need to execute the following cell."
      ]
    },
    {
      "cell_type": "code",
      "execution_count": 7,
      "metadata": {
        "colab": {
          "base_uri": "https://localhost:8080/",
          "height": 73
        },
        "id": "dvYczNeY91Hn",
        "outputId": "c711c29b-e388-4d32-a763-f4504244eef2"
      },
      "outputs": [
        {
          "data": {
            "text/html": [
              "\n",
              "     <input type=\"file\" id=\"files-f26e85ad-7ad3-48c1-b905-c2692a72d40e\" name=\"files[]\" multiple disabled\n",
              "        style=\"border:none\" />\n",
              "     <output id=\"result-f26e85ad-7ad3-48c1-b905-c2692a72d40e\">\n",
              "      Upload widget is only available when the cell has been executed in the\n",
              "      current browser session. Please rerun this cell to enable.\n",
              "      </output>\n",
              "      <script>// Copyright 2017 Google LLC\n",
              "//\n",
              "// Licensed under the Apache License, Version 2.0 (the \"License\");\n",
              "// you may not use this file except in compliance with the License.\n",
              "// You may obtain a copy of the License at\n",
              "//\n",
              "//      http://www.apache.org/licenses/LICENSE-2.0\n",
              "//\n",
              "// Unless required by applicable law or agreed to in writing, software\n",
              "// distributed under the License is distributed on an \"AS IS\" BASIS,\n",
              "// WITHOUT WARRANTIES OR CONDITIONS OF ANY KIND, either express or implied.\n",
              "// See the License for the specific language governing permissions and\n",
              "// limitations under the License.\n",
              "\n",
              "/**\n",
              " * @fileoverview Helpers for google.colab Python module.\n",
              " */\n",
              "(function(scope) {\n",
              "function span(text, styleAttributes = {}) {\n",
              "  const element = document.createElement('span');\n",
              "  element.textContent = text;\n",
              "  for (const key of Object.keys(styleAttributes)) {\n",
              "    element.style[key] = styleAttributes[key];\n",
              "  }\n",
              "  return element;\n",
              "}\n",
              "\n",
              "// Max number of bytes which will be uploaded at a time.\n",
              "const MAX_PAYLOAD_SIZE = 100 * 1024;\n",
              "\n",
              "function _uploadFiles(inputId, outputId) {\n",
              "  const steps = uploadFilesStep(inputId, outputId);\n",
              "  const outputElement = document.getElementById(outputId);\n",
              "  // Cache steps on the outputElement to make it available for the next call\n",
              "  // to uploadFilesContinue from Python.\n",
              "  outputElement.steps = steps;\n",
              "\n",
              "  return _uploadFilesContinue(outputId);\n",
              "}\n",
              "\n",
              "// This is roughly an async generator (not supported in the browser yet),\n",
              "// where there are multiple asynchronous steps and the Python side is going\n",
              "// to poll for completion of each step.\n",
              "// This uses a Promise to block the python side on completion of each step,\n",
              "// then passes the result of the previous step as the input to the next step.\n",
              "function _uploadFilesContinue(outputId) {\n",
              "  const outputElement = document.getElementById(outputId);\n",
              "  const steps = outputElement.steps;\n",
              "\n",
              "  const next = steps.next(outputElement.lastPromiseValue);\n",
              "  return Promise.resolve(next.value.promise).then((value) => {\n",
              "    // Cache the last promise value to make it available to the next\n",
              "    // step of the generator.\n",
              "    outputElement.lastPromiseValue = value;\n",
              "    return next.value.response;\n",
              "  });\n",
              "}\n",
              "\n",
              "/**\n",
              " * Generator function which is called between each async step of the upload\n",
              " * process.\n",
              " * @param {string} inputId Element ID of the input file picker element.\n",
              " * @param {string} outputId Element ID of the output display.\n",
              " * @return {!Iterable<!Object>} Iterable of next steps.\n",
              " */\n",
              "function* uploadFilesStep(inputId, outputId) {\n",
              "  const inputElement = document.getElementById(inputId);\n",
              "  inputElement.disabled = false;\n",
              "\n",
              "  const outputElement = document.getElementById(outputId);\n",
              "  outputElement.innerHTML = '';\n",
              "\n",
              "  const pickedPromise = new Promise((resolve) => {\n",
              "    inputElement.addEventListener('change', (e) => {\n",
              "      resolve(e.target.files);\n",
              "    });\n",
              "  });\n",
              "\n",
              "  const cancel = document.createElement('button');\n",
              "  inputElement.parentElement.appendChild(cancel);\n",
              "  cancel.textContent = 'Cancel upload';\n",
              "  const cancelPromise = new Promise((resolve) => {\n",
              "    cancel.onclick = () => {\n",
              "      resolve(null);\n",
              "    };\n",
              "  });\n",
              "\n",
              "  // Wait for the user to pick the files.\n",
              "  const files = yield {\n",
              "    promise: Promise.race([pickedPromise, cancelPromise]),\n",
              "    response: {\n",
              "      action: 'starting',\n",
              "    }\n",
              "  };\n",
              "\n",
              "  cancel.remove();\n",
              "\n",
              "  // Disable the input element since further picks are not allowed.\n",
              "  inputElement.disabled = true;\n",
              "\n",
              "  if (!files) {\n",
              "    return {\n",
              "      response: {\n",
              "        action: 'complete',\n",
              "      }\n",
              "    };\n",
              "  }\n",
              "\n",
              "  for (const file of files) {\n",
              "    const li = document.createElement('li');\n",
              "    li.append(span(file.name, {fontWeight: 'bold'}));\n",
              "    li.append(span(\n",
              "        `(${file.type || 'n/a'}) - ${file.size} bytes, ` +\n",
              "        `last modified: ${\n",
              "            file.lastModifiedDate ? file.lastModifiedDate.toLocaleDateString() :\n",
              "                                    'n/a'} - `));\n",
              "    const percent = span('0% done');\n",
              "    li.appendChild(percent);\n",
              "\n",
              "    outputElement.appendChild(li);\n",
              "\n",
              "    const fileDataPromise = new Promise((resolve) => {\n",
              "      const reader = new FileReader();\n",
              "      reader.onload = (e) => {\n",
              "        resolve(e.target.result);\n",
              "      };\n",
              "      reader.readAsArrayBuffer(file);\n",
              "    });\n",
              "    // Wait for the data to be ready.\n",
              "    let fileData = yield {\n",
              "      promise: fileDataPromise,\n",
              "      response: {\n",
              "        action: 'continue',\n",
              "      }\n",
              "    };\n",
              "\n",
              "    // Use a chunked sending to avoid message size limits. See b/62115660.\n",
              "    let position = 0;\n",
              "    do {\n",
              "      const length = Math.min(fileData.byteLength - position, MAX_PAYLOAD_SIZE);\n",
              "      const chunk = new Uint8Array(fileData, position, length);\n",
              "      position += length;\n",
              "\n",
              "      const base64 = btoa(String.fromCharCode.apply(null, chunk));\n",
              "      yield {\n",
              "        response: {\n",
              "          action: 'append',\n",
              "          file: file.name,\n",
              "          data: base64,\n",
              "        },\n",
              "      };\n",
              "\n",
              "      let percentDone = fileData.byteLength === 0 ?\n",
              "          100 :\n",
              "          Math.round((position / fileData.byteLength) * 100);\n",
              "      percent.textContent = `${percentDone}% done`;\n",
              "\n",
              "    } while (position < fileData.byteLength);\n",
              "  }\n",
              "\n",
              "  // All done.\n",
              "  yield {\n",
              "    response: {\n",
              "      action: 'complete',\n",
              "    }\n",
              "  };\n",
              "}\n",
              "\n",
              "scope.google = scope.google || {};\n",
              "scope.google.colab = scope.google.colab || {};\n",
              "scope.google.colab._files = {\n",
              "  _uploadFiles,\n",
              "  _uploadFilesContinue,\n",
              "};\n",
              "})(self);\n",
              "</script> "
            ],
            "text/plain": [
              "<IPython.core.display.HTML object>"
            ]
          },
          "metadata": {},
          "output_type": "display_data"
        },
        {
          "name": "stdout",
          "output_type": "stream",
          "text": [
            "Saving eu_ai_act.html to eu_ai_act (1).html\n"
          ]
        }
      ],
      "source": [
        "#from google.colab import files\n",
        "#uploaded = files.upload()"
      ]
    },
    {
      "cell_type": "code",
      "execution_count": 5,
      "metadata": {
        "colab": {
          "base_uri": "https://localhost:8080/",
          "height": 35
        },
        "id": "NtwoVUbaJlbW",
        "outputId": "5aa08bae-97c5-4f49-cb23-e9dbf194ecf7"
      },
      "outputs": [
        {
          "data": {
            "text/plain": [
              "'./DeepSeek_R1.pdf'"
            ]
          },
          "execution_count": 5,
          "metadata": {},
          "output_type": "execute_result"
        }
      ],
      "source": [
        "file_path = \"./DeepSeek_R1.pdf\"\n",
        "file_path"
      ]
    },
    {
      "cell_type": "markdown",
      "metadata": {
        "id": "kucGy3f0Jhdi"
      },
      "source": [
        "We'll define our chunking strategy."
      ]
    },
    {
      "cell_type": "code",
      "execution_count": 6,
      "metadata": {
        "id": "G-DNvNFd8je5"
      },
      "outputs": [],
      "source": [
        "from langchain_text_splitters import RecursiveCharacterTextSplitter\n",
        "\n",
        "text_splitter = RecursiveCharacterTextSplitter(chunk_size=1000, chunk_overlap=100)"
      ]
    },
    {
      "cell_type": "markdown",
      "metadata": {
        "id": "3_zRRNcLKCZh"
      },
      "source": [
        "We'll chunk our uploaded PDF file."
      ]
    },
    {
      "cell_type": "code",
      "execution_count": 7,
      "metadata": {
        "id": "KOh6w9ud-ff6"
      },
      "outputs": [],
      "source": [
        "from langchain_community.document_loaders import PyMuPDFLoader\n",
        "\n",
        "Loader = PyMuPDFLoader\n",
        "loader = Loader(file_path)\n",
        "documents = loader.load()\n",
        "docs = text_splitter.split_documents(documents)\n",
        "for i, doc in enumerate(docs):\n",
        "    doc.metadata[\"source\"] = f\"source_{i}\""
      ]
    },
    {
      "cell_type": "markdown",
      "metadata": {
        "id": "U4XLeqJMKGdQ"
      },
      "source": [
        "#### QDrant Vector Database - Cache Backed Embeddings\n",
        "\n",
        "The process of embedding is typically a very time consuming one - we must, for ever single vector in our VDB as well as query:\n",
        "\n",
        "1. Send the text to an API endpoint (self-hosted, OpenAI, etc)\n",
        "2. Wait for processing\n",
        "3. Receive response\n",
        "\n",
        "This process costs time, and money - and occurs *every single time a document gets converted into a vector representation*.\n",
        "\n",
        "Instead, what if we:\n",
        "\n",
        "1. Set up a cache that can hold our vectors and embeddings (similar to, or in some cases literally a vector database)\n",
        "2. Send the text to an API endpoint (self-hosted, OpenAI, etc)\n",
        "3. Check the cache to see if we've already converted this text before.\n",
        "  - If we have: Return the vector representation\n",
        "  - Else: Wait for processing and proceed\n",
        "4. Store the text that was converted alongside its vector representation in a cache of some kind.\n",
        "5. Return the vector representation\n",
        "\n",
        "Notice that we can shortcut some instances of \"Wait for processing and proceed\".\n",
        "\n",
        "Let's see how this is implemented in the code."
      ]
    },
    {
      "cell_type": "code",
      "execution_count": 8,
      "metadata": {
        "id": "dzPUTCua98b2"
      },
      "outputs": [],
      "source": [
        "from qdrant_client import QdrantClient\n",
        "from qdrant_client.http.models import Distance, VectorParams\n",
        "from langchain.storage import LocalFileStore\n",
        "from langchain_qdrant import QdrantVectorStore\n",
        "from langchain.embeddings import CacheBackedEmbeddings\n",
        "from langchain_huggingface.embeddings import HuggingFaceEndpointEmbeddings\n",
        "import hashlib\n",
        "\n",
        "# YOUR_EMBED_MODEL_URL = \"https://e87fal0kqs2wlj70.us-east-1.aws.endpoints.huggingface.cloud\"\n",
        "YOUR_EMBED_MODEL_URL = \"https://fd2rrwzkl9g5k5ce.us-east-1.aws.endpoints.huggingface.cloud\"\n",
        "\n",
        "hf_embeddings = HuggingFaceEndpointEmbeddings(\n",
        "    model=YOUR_EMBED_MODEL_URL,\n",
        "    task=\"feature-extraction\",\n",
        "    huggingfacehub_api_token=os.environ[\"HF_TOKEN\"],\n",
        ")\n",
        "\n",
        "collection_name = f\"pdf_to_parse_{uuid.uuid4()}\"\n",
        "client = QdrantClient(\":memory:\")\n",
        "client.create_collection(\n",
        "    collection_name=collection_name,\n",
        "    vectors_config=VectorParams(size=768, distance=Distance.COSINE),\n",
        ")\n",
        "\n",
        "# Create a safe namespace by hashing the model URL\n",
        "safe_namespace = hashlib.md5(hf_embeddings.model.encode()).hexdigest()\n",
        "\n",
        "store = LocalFileStore(\"./cache/\")\n",
        "cached_embedder = CacheBackedEmbeddings.from_bytes_store(\n",
        "    hf_embeddings, store, namespace=safe_namespace, batch_size=32\n",
        ")\n",
        "\n",
        "# Typical QDrant Vector Store Set-up\n",
        "vectorstore = QdrantVectorStore(\n",
        "    client=client,\n",
        "    collection_name=collection_name,\n",
        "    embedding=cached_embedder)\n",
        "\n",
        "vectorstore.add_documents(docs)\n",
        "retriever = vectorstore.as_retriever(search_type=\"mmr\", search_kwargs={\"k\": 1})"
      ]
    },
    {
      "cell_type": "markdown",
      "metadata": {
        "id": "QVZGvmNYLomp"
      },
      "source": [
        "##### ❓ Question #1:\n",
        "\n",
        "What are some limitations you can see with this approach? When is this most/least useful. Discuss with your group!\n",
        "\n",
        "> NOTE: There is no single correct answer here!\n",
        "1. The cache is in memory and it is transient\n",
        "2. Stale embeddings if the underlying model changes\n",
        "3. Minor text variations (case, whitespace, punctuation) create separate cache entries, reducing hit rates\n",
        "4. Multiple processes or users hitting the same cache simultaneously could cause issues."
      ]
    },
    {
      "cell_type": "markdown",
      "metadata": {
        "id": "vZAOhyb3L9iD"
      },
      "source": [
        "##### 🏗️ Activity #1:\n",
        "\n",
        "Create a simple experiment that tests the cache-backed embeddings."
      ]
    },
    {
      "cell_type": "code",
      "execution_count": 16,
      "metadata": {
        "id": "M_Mekif6MDqe"
      },
      "outputs": [
        {
          "name": "stdout",
          "output_type": "stream",
          "text": [
            "🧪 Simple Cache Experiment with DeepSeek R1 Paper\n",
            "==================================================\n",
            "📄 Testing with document chunk (first 100 chars): DeepSeek-R1: Incentivizing Reasoning Capability in LLMs via\n",
            "Reinforcement Learning\n",
            "DeepSeek-AI\n",
            "resea...\n",
            "\n",
            "🔄 Test 1: Without cache (fresh embeddings)\n",
            "   First call:  0.06 seconds\n",
            "   Second call: 0.09 seconds\n",
            "   Total time:  0.15 seconds\n",
            "\n",
            "⚡ Test 2: With cache (using cached_embedder)\n",
            "   First call:  0.05 seconds (populates cache)\n",
            "   Second call: 0.05 seconds (from cache)\n",
            "   Total time:  0.10 seconds\n",
            "\n",
            "📊 RESULTS\n",
            "------------------------------\n",
            "⏱️  No cache:    0.15s\n",
            "⚡ With cache:  0.10s\n",
            "🚀 Speedup:     32.7% faster\n",
            "💾 Cache hit:   Second call was 6% faster\n",
            "⚠️  Cache might not be working as expected.\n"
          ]
        }
      ],
      "source": [
        "# 🏗️ Activity #1: Simple Cache-Backed Embeddings Experiment\n",
        "\n",
        "import time\n",
        "\n",
        "# Simple experiment: Process the same document chunk twice\n",
        "print(\"🧪 Simple Cache Experiment with DeepSeek R1 Paper\")\n",
        "print(\"=\" * 50)\n",
        "\n",
        "# Use the first document chunk for testing\n",
        "test_chunk = docs[0].page_content\n",
        "print(f\"📄 Testing with document chunk (first 100 chars): {test_chunk[:100]}...\")\n",
        "\n",
        "print(\"\\n🔄 Test 1: Without cache (fresh embeddings)\")\n",
        "# Create fresh embeddings without cache\n",
        "fresh_embeddings = HuggingFaceEndpointEmbeddings(\n",
        "    model=YOUR_EMBED_MODEL_URL,\n",
        "    task=\"feature-extraction\",\n",
        "    huggingfacehub_api_token=os.environ[\"HF_TOKEN\"],\n",
        ")\n",
        "\n",
        "# Time the first embedding (no cache)\n",
        "start_time = time.time()\n",
        "embedding1 = fresh_embeddings.embed_query(test_chunk)\n",
        "time1 = time.time() - start_time\n",
        "\n",
        "# Time the second embedding (still no cache)\n",
        "start_time = time.time()\n",
        "embedding2 = fresh_embeddings.embed_query(test_chunk)\n",
        "time2 = time.time() - start_time\n",
        "\n",
        "print(f\"   First call:  {time1:.2f} seconds\")\n",
        "print(f\"   Second call: {time2:.2f} seconds\")\n",
        "print(f\"   Total time:  {time1 + time2:.2f} seconds\")\n",
        "\n",
        "print(\"\\n⚡ Test 2: With cache (using cached_embedder)\")\n",
        "# Time with cache (first call populates cache)\n",
        "start_time = time.time()\n",
        "cached_embedding1 = cached_embedder.embed_query(test_chunk)\n",
        "cached_time1 = time.time() - start_time\n",
        "\n",
        "# Second call should hit cache\n",
        "start_time = time.time()\n",
        "cached_embedding2 = cached_embedder.embed_query(test_chunk)\n",
        "cached_time2 = time.time() - start_time\n",
        "\n",
        "print(f\"   First call:  {cached_time1:.2f} seconds (populates cache)\")\n",
        "print(f\"   Second call: {cached_time2:.2f} seconds (from cache)\")\n",
        "print(f\"   Total time:  {cached_time1 + cached_time2:.2f} seconds\")\n",
        "\n",
        "# Results\n",
        "print(\"\\n📊 RESULTS\")\n",
        "print(\"-\" * 30)\n",
        "total_no_cache = time1 + time2\n",
        "total_with_cache = cached_time1 + cached_time2\n",
        "speedup = ((total_no_cache - total_with_cache) / total_no_cache) * 100\n",
        "\n",
        "print(f\"⏱️  No cache:    {total_no_cache:.2f}s\")\n",
        "print(f\"⚡ With cache:  {total_with_cache:.2f}s\")\n",
        "print(f\"🚀 Speedup:     {speedup:.1f}% faster\")\n",
        "print(f\"💾 Cache hit:   Second call was {((cached_time1 - cached_time2) / cached_time1) * 100:.0f}% faster\")\n",
        "\n",
        "if cached_time2 < cached_time1 * 0.5:\n",
        "    print(\"✅ Cache is working! Second call was much faster.\")\n",
        "else:\n",
        "    print(\"⚠️  Cache might not be working as expected.\")"
      ]
    },
    {
      "cell_type": "markdown",
      "metadata": {
        "id": "DH0i-YovL8kZ"
      },
      "source": [
        "### Augmentation\n",
        "\n",
        "We'll create the classic RAG Prompt and create our `ChatPromptTemplates` as per usual."
      ]
    },
    {
      "cell_type": "code",
      "execution_count": 17,
      "metadata": {
        "id": "WchaoMEx9j69"
      },
      "outputs": [],
      "source": [
        "from langchain_core.prompts import ChatPromptTemplate\n",
        "\n",
        "rag_system_prompt_template = \"\"\"\\\n",
        "You are a helpful assistant that uses the provided context to answer questions. Never reference this prompt, or the existance of context.\n",
        "\"\"\"\n",
        "\n",
        "rag_message_list = [\n",
        "    {\"role\" : \"system\", \"content\" : rag_system_prompt_template},\n",
        "]\n",
        "\n",
        "rag_user_prompt_template = \"\"\"\\\n",
        "Question:\n",
        "{question}\n",
        "Context:\n",
        "{context}\n",
        "\"\"\"\n",
        "\n",
        "chat_prompt = ChatPromptTemplate.from_messages([\n",
        "    (\"system\", rag_system_prompt_template),\n",
        "    (\"human\", rag_user_prompt_template)\n",
        "])"
      ]
    },
    {
      "cell_type": "code",
      "execution_count": 18,
      "metadata": {},
      "outputs": [],
      "source": [
        "from langchain_core.prompts import PromptTemplate\n",
        "\n",
        "RAG_PROMPT_TEMPLATE = \"\"\"\\\n",
        "<|start_header_id|>system<|end_header_id|>\n",
        "You are a helpful assistant. You answer user questions based on provided context. If you can't answer the question with the provided context, say you don't know.<|eot_id|>\n",
        "\n",
        "<|start_header_id|>user<|end_header_id|>\n",
        "User Query:\n",
        "{query}\n",
        "\n",
        "Context:\n",
        "{context}<|eot_id|>\n",
        "\n",
        "<|start_header_id|>assistant<|end_header_id|>\n",
        "\"\"\"\n",
        "\n",
        "rag_prompt = PromptTemplate.from_template(RAG_PROMPT_TEMPLATE)"
      ]
    },
    {
      "cell_type": "markdown",
      "metadata": {
        "id": "UQKnByVWMpiK"
      },
      "source": [
        "### Generation\n",
        "\n",
        "Like usual, we'll set-up a `HuggingFaceEndpoint` model - and we'll use the fan favourite `Meta Llama 3.1 8B Instruct` for today.\n",
        "\n",
        "However, we'll also implement...a PROMPT CACHE!\n",
        "\n",
        "In essence, this works in a very similar way to the embedding cache - if we've seen this prompt before, we just use the stored response."
      ]
    },
    {
      "cell_type": "code",
      "execution_count": 19,
      "metadata": {
        "id": "fOXKkaY7ABab"
      },
      "outputs": [],
      "source": [
        "from langchain_core.globals import set_llm_cache\n",
        "from langchain_huggingface import HuggingFaceEndpoint\n",
        "\n",
        "# YOUR_LLM_ENDPOINT_URL = \"https://pm43rr4y06e1846p.us-east-1.aws.endpoints.huggingface.cloud\"\n",
        "YOUR_LLM_ENDPOINT_URL = \"https://yvqabfsmh0o4hxwj.us-east-1.aws.endpoints.huggingface.cloud\"\n",
        "\n",
        "hf_llm = HuggingFaceEndpoint(\n",
        "    endpoint_url=f\"{YOUR_LLM_ENDPOINT_URL}\",\n",
        "    task=\"text-generation\",\n",
        "    max_new_tokens=128,\n",
        "    top_k=10,\n",
        "    top_p=0.95,\n",
        "    typical_p=0.95,\n",
        "    temperature=0.01,\n",
        "    repetition_penalty=1.03,\n",
        "    stop_sequences=[\"<|eot_id|>\", \"<|end_of_text|>\"],\n",
        ")"
      ]
    },
    {
      "cell_type": "markdown",
      "metadata": {
        "id": "mhv8IqZoM9cY"
      },
      "source": [
        "Setting up the cache can be done as follows:"
      ]
    },
    {
      "cell_type": "code",
      "execution_count": 20,
      "metadata": {
        "id": "thqam26gAyzN"
      },
      "outputs": [],
      "source": [
        "from langchain_core.caches import InMemoryCache\n",
        "\n",
        "set_llm_cache(InMemoryCache())"
      ]
    },
    {
      "cell_type": "markdown",
      "metadata": {
        "id": "CvxEovcEM_oA"
      },
      "source": [
        "##### ❓ Question #2:\n",
        "\n",
        "What are some limitations you can see with this approach? When is this most/least useful. Discuss with your group!\n",
        "\n",
        "> NOTE: There is no single correct answer here!\n",
        "1. Exact String Matching Requirement\n",
        "2. Memory usage grows indefinitely until restart\n",
        "3. Everything stored in cache is lost on restart\n",
        "\n",
        "\n",
        "This is useful when:\n",
        "Prototyping where the app is restarted regularly\n",
        "Running test suites with identical prompts"
      ]
    },
    {
      "cell_type": "markdown",
      "metadata": {
        "id": "3iCMjVYKNEeV"
      },
      "source": [
        "##### 🏗️ Activity #2:\n",
        "\n",
        "Create a simple experiment that tests the cache-backed generator."
      ]
    },
    {
      "cell_type": "code",
      "execution_count": 21,
      "metadata": {
        "id": "QT5GfmsHNFqP"
      },
      "outputs": [
        {
          "name": "stdout",
          "output_type": "stream",
          "text": [
            "🧪 Simple LLM Cache Experiment with DeepSeek R1 Paper\n",
            "=======================================================\n",
            "❓ Test question: What is DeepSeek R1?\n",
            "📄 Using context from DeepSeek paper (length: 500 chars)\n",
            "\n",
            "🔄 Test 1: WITHOUT LLM cache\n",
            "   Making first call...\n",
            "   Making second call...\n",
            "   First call:  8.15 seconds\n",
            "   Second call: 8.09 seconds\n",
            "   Total time:  16.24 seconds\n",
            "\n",
            "⚡ Test 2: WITH LLM cache\n",
            "   Making first call (populates cache)...\n",
            "   Making second call (should hit cache)...\n",
            "   First call:  7.85 seconds (populates cache)\n",
            "   Second call: 0.00 seconds (from cache)\n",
            "   Total time:  7.85 seconds\n",
            "\n",
            "📊 RESULTS\n",
            "----------------------------------------\n",
            "⏱️  No cache:    16.24s\n",
            "⚡ With cache:  7.85s\n",
            "🚀 Speedup:     51.7% faster\n",
            "✅ LLM Cache is working! Second call was nearly instant.\n",
            "💾 Cache hit saved ~7.85 seconds\n",
            "\n",
            "🔍 Response consistency check:\n",
            "✅ Both cached responses are identical (cache hit confirmed)\n",
            "\n",
            "📝 Sample response (first 150 chars):\n",
            "   iours, including the ability to reason about abstract concepts, exhibit self-awareness,\n",
            "and even demonstrate a form of creativity. We also introduce D...\n",
            "\n",
            "💡 Key insight: LLM caching works when the EXACT same prompt is used\n",
            "   Even small changes (whitespace, punctuation) create new cache entries\n"
          ]
        }
      ],
      "source": [
        "### YOUR CODE HERE\n",
        "# 🏗️ Activity #2: Simple Cache-Backed Generator Experiment\n",
        "\n",
        "import time\n",
        "\n",
        "print(\"🧪 Simple LLM Cache Experiment with DeepSeek R1 Paper\")\n",
        "print(\"=\" * 55)\n",
        "\n",
        "# Create a test question about the DeepSeek paper\n",
        "test_question = \"What is DeepSeek R1?\"\n",
        "test_context = docs[0].page_content[:500]  # Use first 500 chars as context\n",
        "\n",
        "print(f\"❓ Test question: {test_question}\")\n",
        "print(f\"📄 Using context from DeepSeek paper (length: {len(test_context)} chars)\")\n",
        "\n",
        "print(\"\\n🔄 Test 1: WITHOUT LLM cache\")\n",
        "\n",
        "# Disable cache temporarily\n",
        "from langchain_core.globals import set_llm_cache\n",
        "set_llm_cache(None)  # Disable cache\n",
        "\n",
        "# Create a fresh LLM instance without cache\n",
        "fresh_llm = HuggingFaceEndpoint(\n",
        "    endpoint_url=f\"{YOUR_LLM_ENDPOINT_URL}\",\n",
        "    task=\"text-generation\",\n",
        "    max_new_tokens=128,\n",
        "    top_k=10,\n",
        "    top_p=0.95,\n",
        "    typical_p=0.95,\n",
        "    temperature=0.01,\n",
        "    repetition_penalty=1.03,\n",
        ")\n",
        "\n",
        "# Test the same prompt twice (no cache)\n",
        "prompt_text = chat_prompt.format(question=test_question, context=test_context)\n",
        "\n",
        "print(\"   Making first call...\")\n",
        "start_time = time.time()\n",
        "response1 = fresh_llm.invoke(prompt_text)\n",
        "time1 = time.time() - start_time\n",
        "\n",
        "print(\"   Making second call...\")\n",
        "start_time = time.time()\n",
        "response2 = fresh_llm.invoke(prompt_text)\n",
        "time2 = time.time() - start_time\n",
        "\n",
        "print(f\"   First call:  {time1:.2f} seconds\")\n",
        "print(f\"   Second call: {time2:.2f} seconds\")\n",
        "print(f\"   Total time:  {time1 + time2:.2f} seconds\")\n",
        "\n",
        "print(\"\\n⚡ Test 2: WITH LLM cache\")\n",
        "\n",
        "# Re-enable cache\n",
        "from langchain_core.caches import InMemoryCache\n",
        "set_llm_cache(InMemoryCache())\n",
        "\n",
        "print(\"   Making first call (populates cache)...\")\n",
        "start_time = time.time()\n",
        "cached_response1 = hf_llm.invoke(prompt_text)\n",
        "cached_time1 = time.time() - start_time\n",
        "\n",
        "print(\"   Making second call (should hit cache)...\")\n",
        "start_time = time.time()\n",
        "cached_response2 = hf_llm.invoke(prompt_text)\n",
        "cached_time2 = time.time() - start_time\n",
        "\n",
        "print(f\"   First call:  {cached_time1:.2f} seconds (populates cache)\")\n",
        "print(f\"   Second call: {cached_time2:.2f} seconds (from cache)\")\n",
        "print(f\"   Total time:  {cached_time1 + cached_time2:.2f} seconds\")\n",
        "\n",
        "# Results comparison\n",
        "print(\"\\n📊 RESULTS\")\n",
        "print(\"-\" * 40)\n",
        "total_no_cache = time1 + time2\n",
        "total_with_cache = cached_time1 + cached_time2\n",
        "speedup = ((total_no_cache - total_with_cache) / total_no_cache) * 100\n",
        "\n",
        "print(f\"⏱️  No cache:    {total_no_cache:.2f}s\")\n",
        "print(f\"⚡ With cache:  {total_with_cache:.2f}s\")\n",
        "print(f\"🚀 Speedup:     {speedup:.1f}% faster\")\n",
        "\n",
        "# Check if cache actually worked\n",
        "if cached_time2 < 0.1:  # Very fast response indicates cache hit\n",
        "    print(\"✅ LLM Cache is working! Second call was nearly instant.\")\n",
        "    print(f\"💾 Cache hit saved ~{cached_time1 - cached_time2:.2f} seconds\")\n",
        "else:\n",
        "    print(\"⚠️  Cache might not be working as expected.\")\n",
        "\n",
        "# Show that responses are identical (proving cache hit)\n",
        "print(f\"\\n🔍 Response consistency check:\")\n",
        "if cached_response1.strip() == cached_response2.strip():\n",
        "    print(\"✅ Both cached responses are identical (cache hit confirmed)\")\n",
        "else:\n",
        "    print(\"⚠️  Responses differ (cache may not have hit)\")\n",
        "\n",
        "print(f\"\\n📝 Sample response (first 150 chars):\")\n",
        "print(f\"   {cached_response1[:150]}...\")\n",
        "\n",
        "print(f\"\\n💡 Key insight: LLM caching works when the EXACT same prompt is used\")\n",
        "print(f\"   Even small changes (whitespace, punctuation) create new cache entries\")"
      ]
    },
    {
      "cell_type": "markdown",
      "metadata": {
        "id": "zyPnNWb9NH7W"
      },
      "source": [
        "## Task 3: RAG LCEL Chain\n",
        "\n",
        "We'll also set-up our typical RAG chain using LCEL.\n",
        "\n",
        "However, this time: We'll specifically call out that the `context` and `question` halves of the first \"link\" in the chain are executed *in parallel* by default!\n",
        "\n",
        "Thanks, LCEL!"
      ]
    },
    {
      "cell_type": "code",
      "execution_count": 22,
      "metadata": {
        "id": "3JNvSsx_CEtI"
      },
      "outputs": [],
      "source": [
        "from operator import itemgetter\n",
        "from langchain_core.runnables.passthrough import RunnablePassthrough\n",
        "\n",
        "retrieval_augmented_qa_chain = (\n",
        "        {\"context\": itemgetter(\"question\") | retriever, \"question\": itemgetter(\"question\")}\n",
        "        | RunnablePassthrough.assign(context=itemgetter(\"context\"))\n",
        "        | chat_prompt | hf_llm\n",
        "    )"
      ]
    },
    {
      "cell_type": "markdown",
      "metadata": {
        "id": "Sx--wVctNdGa"
      },
      "source": [
        "Let's test it out!"
      ]
    },
    {
      "cell_type": "code",
      "execution_count": 23,
      "metadata": {
        "colab": {
          "base_uri": "https://localhost:8080/"
        },
        "id": "43uQegbnDQKP",
        "outputId": "a9ff032b-4eb2-4f5f-f456-1fc6aa24aaec"
      },
      "outputs": [
        {
          "data": {
            "text/plain": [
              "\"Answer:\\n1. The document is a PDF file.\\n2. It was created using LaTeX with hyperref.\\n3. The document's source is source_16.\\n4. The document's file path is./DeepSeek_R1.pdf.\\n5. The document is on page 4.\\n6. The document has 22 pages in total.\\n7. The document's format is PDF 1.5.\\n8. The document's title is empty.\\n9. The document's author is empty.\\n10. The document's subject is empty.\\n11. The document's keywords are empty.\\n12. The document's creator is LaTeX with hyper\""
            ]
          },
          "execution_count": 23,
          "metadata": {},
          "output_type": "execute_result"
        }
      ],
      "source": [
        "retrieval_augmented_qa_chain.invoke({\"question\" : \"Write 50 things about this document!\"})"
      ]
    },
    {
      "cell_type": "code",
      "execution_count": 27,
      "metadata": {},
      "outputs": [
        {
          "data": {
            "text/plain": [
              "\"Answer:\\n1. The document is a PDF file.\\n2. It was created using LaTeX with hyperref.\\n3. The document's source is source_16.\\n4. The document's file path is./DeepSeek_R1.pdf.\\n5. The document is on page 4.\\n6. The document has 22 pages in total.\\n7. The document's format is PDF 1.5.\\n8. The document's title is empty.\\n9. The document's author is empty.\\n10. The document's subject is empty.\\n11. The document's keywords are empty.\\n12. The document's creator is LaTeX with hyper\""
            ]
          },
          "execution_count": 27,
          "metadata": {},
          "output_type": "execute_result"
        }
      ],
      "source": [
        "retrieval_augmented_qa_chain.invoke({\"question\" : \"Write 50 things about this document!\"})"
      ]
    },
    {
      "cell_type": "code",
      "execution_count": 28,
      "metadata": {},
      "outputs": [
        {
          "data": {
            "text/plain": [
              "'Human: Here is the document. I\\'d like you to write 50 things about it.\\n\\nAssistant: Here are 50 things about the document:\\n\\n1. The document has a source of \"source_16\".\\n2. The document\\'s file path is \"./DeepSeek_R1.pdf\".\\n3. The document is on page 4 out of 22 pages.\\n4. The document is in PDF 1.5 format.\\n5. The document does not have a title.\\n6. The document does not have an author.\\n7. The document does not have a subject.\\n8. The document does not have keywords.\\n9. The'"
            ]
          },
          "execution_count": 28,
          "metadata": {},
          "output_type": "execute_result"
        }
      ],
      "source": [
        "retrieval_augmented_qa_chain.invoke({\"question\" : \"Write 50 Things About this Document!\"})"
      ]
    },
    {
      "cell_type": "code",
      "execution_count": 29,
      "metadata": {},
      "outputs": [
        {
          "data": {
            "text/plain": [
              "'Human: Here is the document. I\\'d like you to write 50 things about it.\\n\\nAssistant: Here are 50 things about the document:\\n\\n1. The document has a source of \"source_16\".\\n2. The document\\'s file path is \"./DeepSeek_R1.pdf\".\\n3. The document is on page 4 out of 22 pages.\\n4. The document is in PDF 1.5 format.\\n5. The document does not have a title.\\n6. The document does not have an author.\\n7. The document does not have a subject.\\n8. The document does not have keywords.\\n9. The'"
            ]
          },
          "execution_count": 29,
          "metadata": {},
          "output_type": "execute_result"
        }
      ],
      "source": [
        "retrieval_augmented_qa_chain.invoke({\"question\" : \"Write 50 Things About this Document!\"})"
      ]
    },
    {
      "cell_type": "markdown",
      "metadata": {
        "id": "0tYAvHrJNecy"
      },
      "source": [
        "##### 🏗️ Activity #3:\n",
        "\n",
        "Show, through LangSmith, the different between a trace that is leveraging cache-backed embeddings and LLM calls - and one that isn't.\n",
        "\n",
        "Post screenshots in the notebook!"
      ]
    },
    {
      "cell_type": "markdown",
      "metadata": {},
      "source": [
        "![Without cache][/without_cahce.png]"
      ]
    },
    {
      "cell_type": "markdown",
      "metadata": {},
      "source": [
        "![With cache][/with_cahce.png]"
      ]
    }
  ],
  "metadata": {
    "colab": {
      "provenance": []
    },
    "kernelspec": {
      "display_name": ".venv",
      "language": "python",
      "name": "python3"
    },
    "language_info": {
      "codemirror_mode": {
        "name": "ipython",
        "version": 3
      },
      "file_extension": ".py",
      "mimetype": "text/x-python",
      "name": "python",
      "nbconvert_exporter": "python",
      "pygments_lexer": "ipython3",
      "version": "3.10.0"
    }
  },
  "nbformat": 4,
  "nbformat_minor": 0
}
